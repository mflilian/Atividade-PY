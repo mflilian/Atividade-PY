{
  "nbformat": 4,
  "nbformat_minor": 0,
  "metadata": {
    "colab": {
      "name": "UFABC.ipynb",
      "provenance": [],
      "collapsed_sections": [],
      "authorship_tag": "ABX9TyPtVI8FKUtQmg/lG+a3h7tA",
      "include_colab_link": true
    },
    "kernelspec": {
      "name": "python3",
      "display_name": "Python 3"
    }
  },
  "cells": [
    {
      "cell_type": "markdown",
      "metadata": {
        "id": "view-in-github",
        "colab_type": "text"
      },
      "source": [
        "<a href=\"https://colab.research.google.com/github/mflilian/Atividade-PY/blob/main/EXERCICIO.ipynb\" target=\"_parent\"><img src=\"https://colab.research.google.com/assets/colab-badge.svg\" alt=\"Open In Colab\"/></a>"
      ]
    },
    {
      "cell_type": "code",
      "metadata": {
        "colab": {
          "base_uri": "https://localhost:8080/"
        },
        "id": "bgyhlsFEZFzA",
        "outputId": "d478e3ff-5008-49c8-893f-95b6a59c82b2"
      },
      "source": [
        "# Questão 1\r\n",
        "\r\n",
        "import pandas as pd\r\n",
        "\r\n",
        "pd.read_csv(\"http://professor.ufabc.edu.br/~ronaldo.prati/bases/vgsales.csv\") \r\n",
        "df = pd.read_csv(\"http://professor.ufabc.edu.br/~ronaldo.prati/bases/vgsales.csv\")\r\n",
        "\r\n",
        "df1 = df.drop(columns='Rank')\r\n",
        "df2 = df1.drop(columns='Year')\r\n",
        "df3 = df2.drop(columns='Other_Sales')\r\n",
        "df4= df3.drop(columns='Global_Sales')\r\n",
        "print(df4.corr())\r\n",
        "\r\n",
        "# A correlação com vendas na Europa é maior para a America do Norte."
      ],
      "execution_count": 1,
      "outputs": [
        {
          "output_type": "stream",
          "text": [
            "          NA_Sales  EU_Sales  JP_Sales\n",
            "NA_Sales  1.000000  0.767727  0.449787\n",
            "EU_Sales  0.767727  1.000000  0.435584\n",
            "JP_Sales  0.449787  0.435584  1.000000\n"
          ],
          "name": "stdout"
        }
      ]
    },
    {
      "cell_type": "code",
      "metadata": {
        "id": "VHV6PUsKZQgb"
      },
      "source": [
        "#Questão 2\r\n",
        "import random\r\n",
        "\r\n",
        "numeros_alea = 10\r\n",
        "sorteados = 0\r\n",
        "while (pontos > 0.5):\r\n",
        "\r\n",
        "numeros_alea = numeros_alea + 1\r\n",
        "x = random.random()\r\n",
        "y = random.random()\r\n",
        " \r\n",
        "print( \"(%.2f, \"%x,  \"%.2f)\"%y)\r\n",
        " \r\n",
        "pontos =  calcula_sorteados(x,y)\r\n",
        " \r\n",
        "print(\"você sorteou \",numeros_alea,\" numeros maiores que 0.5\")\r\n",
        "\r\n"
      ],
      "execution_count": null,
      "outputs": []
    },
    {
      "cell_type": "code",
      "metadata": {
        "id": "lxp-sDakbDQt"
      },
      "source": [
        "#Codigo 3\r\n",
        "\r\n",
        "import pandas as pd\r\n",
        "\r\n",
        "pd.read_csv(\"http://professor.ufabc.edu.br/~ronaldo.prati/bases/vgsales.csv\") \r\n",
        "df = pd.read_csv(\"http://professor.ufabc.edu.br/~ronaldo.prati/bases/vgsales.csv\")\r\n",
        "df.query(\"JP_Sales>= 0.00\")\r\n",
        "df1 = df.drop(columns='Rank')\r\n",
        "df2 = df1.drop(columns='Year')\r\n",
        "df3 = df2.drop(columns='EU_Sales')\r\n",
        "df4 = df3.drop(columns='Other_Sales')\r\n",
        "df5 = df4.drop(columns='Global_Sales')\r\n",
        "df6 = df5.drop(columns='NA_Sales')\r\n",
        "print(df6.mean())\r\n",
        "print(df6.std())\r\n",
        "print(df6.corr())"
      ],
      "execution_count": null,
      "outputs": []
    },
    {
      "cell_type": "code",
      "metadata": {
        "id": "Y1KIcQtFdpBC"
      },
      "source": [
        "# Questao 4\r\n",
        "\r\n",
        "import random\r\n",
        "\r\n",
        "numeros_alea = 0\r\n",
        "sorteados = 0\r\n",
        "while (pontos != 10):\r\n",
        "\r\n",
        "numeros_alea = numeros_alea + 1\r\n",
        "x = random.random()\r\n",
        "y = random.random()\r\n",
        " \r\n",
        "print( \"(%.2f, \"%x,  \"%.2f)\"%y)\r\n",
        " \r\n",
        "pontos =  calcula_sorteados(x,y)\r\n",
        " \r\n",
        "print(\"você fez um sorteio com 10 numeros! em\",numeros_alea,\"aleatorios\")"
      ],
      "execution_count": null,
      "outputs": []
    },
    {
      "cell_type": "code",
      "metadata": {
        "id": "ZQ8gLwK9bFj1"
      },
      "source": [
        "#Questao 5\r\n",
        "\r\n",
        "import pandas as pd\r\n",
        "\r\n",
        "pd.read_csv(\"http://professor.ufabc.edu.br/~ronaldo.prati/bases/vgsales.csv\") \r\n",
        "df = pd.read_csv(\"http://professor.ufabc.edu.br/~ronaldo.prati/bases/vgsales.csv\")\r\n",
        "df.query(\"JP_Sales>= 0.00\")\r\n",
        "df1 = df.drop(columns='Rank')\r\n",
        "df2 = df1.drop(columns='Year')\r\n",
        "df3 = df2.drop(columns='EU_Sales')\r\n",
        "df4 = df3.drop(columns='Other_Sales')\r\n",
        "df5 = df4.drop(columns='Global_Sales')\r\n",
        "df6 = df5.drop(columns='NA_Sales')\r\n",
        "print(df6.mean())\r\n",
        "print(df6.std())\r\n",
        "print(df6.corr())\r\n"
      ],
      "execution_count": null,
      "outputs": []
    },
    {
      "cell_type": "code",
      "metadata": {
        "id": "xwNJFqpAdiCS"
      },
      "source": [
        "#Questão 6"
      ],
      "execution_count": null,
      "outputs": []
    },
    {
      "cell_type": "code",
      "metadata": {
        "id": "xkuqlf-AcD9A"
      },
      "source": [
        "#Questao 7\r\n",
        "\r\n",
        "import pandas as pd\r\n",
        "import numpy as np\r\n",
        "\r\n",
        "pd.read_csv(\"http://professor.ufabc.edu.br/~ronaldo.prati/bases/vgsales.csv\") \r\n",
        "df = pd.read_csv(\"http://professor.ufabc.edu.br/~ronaldo.prati/bases/vgsales.csv\")\r\n",
        "df_total = df.query(\"Other_Sales >= 0.00 or Global_Sales >= 0.00\")\r\n",
        "\r\n",
        "m, b = np.polyfit(x=df_total['Other_Sales'], y=df_total['Global_Sales'], deg = 1)\r\n",
        "\r\n",
        "print(m)\r\n",
        "print(b)\r\n"
      ],
      "execution_count": null,
      "outputs": []
    },
    {
      "cell_type": "code",
      "metadata": {
        "id": "9J7-dIXlca4_"
      },
      "source": [
        "#Questao 8\r\n",
        "\r\n",
        "# Questao 8\r\n",
        "\r\n",
        "import pandas as pd\r\n",
        "\r\n",
        "pd.read_csv(\"http://professor.ufabc.edu.br/~ronaldo.prati/bases/vgsales.csv\") \r\n",
        "df = pd.read_csv(\"http://professor.ufabc.edu.br/~ronaldo.prati/bases/vgsales.csv\")\r\n",
        "\r\n",
        "df1 = df.drop(columns='Rank')\r\n",
        "df2 = df1.drop(columns='Year')\r\n",
        "df3 = df2.drop(columns='Other_Sales')\r\n",
        "df4= df3.drop(columns='Global_Sales')\r\n",
        "print(df4.corr())\r\n"
      ],
      "execution_count": null,
      "outputs": []
    }
  ]
}